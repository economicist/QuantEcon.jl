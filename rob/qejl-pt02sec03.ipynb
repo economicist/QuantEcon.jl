{
 "cells": [
  {
   "cell_type": "code",
   "execution_count": 68,
   "metadata": {
    "collapsed": false
   },
   "outputs": [
    {
     "data": {
      "text/plain": [
       "100x100 Array{Float64,2}:\n",
       " Inf  Inf  Inf   Inf     Inf  Inf  Inf  …  Inf     Inf    Inf  Inf  Inf   \n",
       " Inf  Inf  Inf   Inf     Inf  Inf  Inf     Inf     Inf    Inf  Inf  Inf   \n",
       " Inf  Inf  Inf  3523.33  Inf  Inf  Inf     Inf     Inf    Inf  Inf  Inf   \n",
       " Inf  Inf  Inf   Inf     Inf  Inf  Inf     Inf     Inf    Inf  Inf  Inf   \n",
       " Inf  Inf  Inf   Inf     Inf  Inf  Inf     Inf     Inf    Inf  Inf   80.49\n",
       " Inf  Inf  Inf   145.8   Inf  Inf  Inf  …  Inf     Inf    Inf  Inf  Inf   \n",
       " Inf  Inf  Inf   Inf     Inf  Inf  Inf     Inf     Inf    Inf  Inf    0.36\n",
       " Inf  Inf  Inf   Inf     Inf  Inf  Inf     Inf     Inf    Inf  Inf  Inf   \n",
       " Inf  Inf  Inf   Inf     Inf  Inf  Inf     Inf     Inf    Inf  Inf  Inf   \n",
       " Inf  Inf  Inf   Inf     Inf  Inf  Inf       8.75  Inf    Inf  Inf  Inf   \n",
       " Inf  Inf  Inf   Inf     Inf  Inf  Inf  …  Inf     Inf    Inf  Inf  Inf   \n",
       " Inf  Inf  Inf   Inf     Inf  Inf  Inf     Inf      60.8  Inf  Inf  Inf   \n",
       " Inf  Inf  Inf   Inf     Inf  Inf  Inf     Inf     Inf    Inf  Inf  Inf   \n",
       "   ⋮                            ⋮       ⋱    ⋮                            \n",
       " Inf  Inf  Inf   Inf     Inf  Inf  Inf     Inf     Inf    Inf  Inf  Inf   \n",
       " Inf  Inf  Inf   Inf     Inf  Inf  Inf     Inf     Inf    Inf  Inf  Inf   \n",
       " Inf  Inf  Inf   Inf     Inf  Inf  Inf  …  Inf     Inf    Inf  Inf  Inf   \n",
       " Inf  Inf  Inf   Inf     Inf  Inf  Inf     Inf     Inf    Inf  Inf  Inf   \n",
       " Inf  Inf  Inf   Inf     Inf  Inf  Inf     Inf     Inf    Inf  Inf  Inf   \n",
       " Inf  Inf  Inf   Inf     Inf  Inf  Inf     Inf     Inf    Inf  Inf  Inf   \n",
       " Inf  Inf  Inf   Inf     Inf  Inf  Inf     Inf     Inf    Inf  Inf  Inf   \n",
       " Inf  Inf  Inf   Inf     Inf  Inf  Inf  …  Inf     Inf    Inf  Inf  Inf   \n",
       " Inf  Inf  Inf   Inf     Inf  Inf  Inf     Inf     Inf    Inf  Inf  Inf   \n",
       " Inf  Inf  Inf   Inf     Inf  Inf  Inf     Inf     Inf    Inf  Inf  Inf   \n",
       " Inf  Inf  Inf   Inf     Inf  Inf  Inf     Inf     Inf    Inf  Inf  Inf   \n",
       " Inf  Inf  Inf   Inf     Inf  Inf  Inf     Inf     Inf    Inf  Inf  Inf   "
      ]
     },
     "execution_count": 68,
     "metadata": {},
     "output_type": "execute_result"
    }
   ],
   "source": [
    "unsubstring{S}(s::SubString{S}) = convert(S,s)\n",
    "\n",
    "function read_map_data(filename::String)\n",
    "    f = open(filename, \"r\")\n",
    "    map = Dict{String, Array{(String, Float64)}}()\n",
    "    for line in eachline(f)\n",
    "        cleanline = replace(line, \"\\n\", \"\")\n",
    "        splitline = split(cleanline, \", \")\n",
    "        nodefrom = splitline[1]\n",
    "        splice!(splitline, 1)\n",
    "        i = 1\n",
    "        while i <= length(splitline)\n",
    "            pair = split(splitline[i])\n",
    "            if i == 1 && splitline[i] != \"\"\n",
    "                nodeto = pair[1]\n",
    "                distance = parsefloat(unsubstring(pair[2]))\n",
    "                map[nodefrom] = [(nodeto, distance)]\n",
    "            elseif splitline[i] != \"\"\n",
    "                nodeto = pair[1]\n",
    "                distance = parsefloat(unsubstring(pair[2]))\n",
    "                push!(map[nodefrom], (nodeto, distance))\n",
    "            else\n",
    "                map[nodefrom] = (String, Float64)[]\n",
    "            end\n",
    "            i += 1\n",
    "        end\n",
    "    end\n",
    "    close(f)\n",
    "    return map\n",
    "end\n",
    "\n",
    "function nodeindex(map::Dict{String, Array{(String, Float64)}})\n",
    "    index = (String, Int64)[]\n",
    "    inverse = (Int64, String)[]\n",
    "    nodenames = keys(map)\n",
    "    for (i, nodename) in enumerate(nodenames)\n",
    "        nodename = unsubstring(nodename)\n",
    "        push!(index, (nodename, i))\n",
    "        push!(inverse, (i, nodename))\n",
    "    end\n",
    "    return Dict(index), Dict(inverse)\n",
    "end\n",
    "\n",
    "function distance_matrix(map, name_to_number, number_to_name)\n",
    "    n = length(map)\n",
    "    matrix = ones(Float64, n, n)\n",
    "    matrix = Inf * matrix\n",
    "    for nodefrom in keys(map)\n",
    "        row = name_to_number[nodefrom]\n",
    "        for (nodeto, distance) in map[nodefrom]\n",
    "            col = name_to_number[nodeto]\n",
    "            matrix[row, col] = distance\n",
    "        end\n",
    "    end\n",
    "    return matrix\n",
    "end\n",
    "\n",
    "map = read_map_data(\"node_graph_data.txt\")\n",
    "name_to_number, number_to_name = nodeindex(map)\n",
    "dfrom = distance_matrix(map, name_to_number, number_to_name)\n",
    "dto = dfrom'"
   ]
  },
  {
   "cell_type": "code",
   "execution_count": null,
   "metadata": {
    "collapsed": true
   },
   "outputs": [],
   "source": []
  }
 ],
 "metadata": {
  "kernelspec": {
   "display_name": "Julia 0.3.8",
   "language": "julia",
   "name": "julia-0.3"
  },
  "language_info": {
   "name": "julia",
   "version": "0.3.8"
  }
 },
 "nbformat": 4,
 "nbformat_minor": 0
}
