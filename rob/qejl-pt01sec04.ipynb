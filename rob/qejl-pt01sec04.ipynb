{
 "cells": [
  {
   "cell_type": "code",
   "execution_count": 99,
   "metadata": {
    "collapsed": false
   },
   "outputs": [
    {
     "data": {
      "text/plain": [
       "discrete_lyapunov (generic function with 2 methods)"
      ]
     },
     "execution_count": 99,
     "metadata": {},
     "output_type": "execute_result"
    }
   ],
   "source": [
    "function discrete_lyapunov(A, Sigma, maxsteps = 500)\n",
    "    steps = 0\n",
    "    S = Sigma * Sigma'\n",
    "    diff = ones(size(Sigma))\n",
    "    while (abs(diff) .> 1e-16) != falses(size(Sigma))\n",
    "        nextS = A * S * A' + Sigma * Sigma'\n",
    "        diff = nextS - S\n",
    "        S = nextS\n",
    "        steps += 1\n",
    "        if (S .== Inf) != falses(size(Sigma))\n",
    "            error(\"S diverges!\")\n",
    "        end\n",
    "        if steps >= maxsteps\n",
    "            error(\"Didn't converge in maximum $maxsteps steps.\")\n",
    "        end\n",
    "    end\n",
    "    return S\n",
    "end"
   ]
  },
  {
   "cell_type": "code",
   "execution_count": 100,
   "metadata": {
    "collapsed": false
   },
   "outputs": [
    {
     "data": {
      "text/plain": [
       "2x2 Array{Float64,2}:\n",
       " 0.671231  0.633474\n",
       " 0.633474  0.858874"
      ]
     },
     "execution_count": 100,
     "metadata": {},
     "output_type": "execute_result"
    }
   ],
   "source": [
    "A = [ 0.8 -0.2; -0.1 0.7 ]\n",
    "Sigma = [ 0.5 0.4 ; 0.4 0.6 ]\n",
    "discrete_lyapunov(A, Sigma)"
   ]
  },
  {
   "cell_type": "code",
   "execution_count": 101,
   "metadata": {
    "collapsed": false
   },
   "outputs": [
    {
     "data": {
      "text/plain": [
       "2x2 Array{Float64,2}:\n",
       " 0.671231  0.633474\n",
       " 0.633474  0.858874"
      ]
     },
     "execution_count": 101,
     "metadata": {},
     "output_type": "execute_result"
    }
   ],
   "source": [
    "using QuantEcon: solve_discrete_lyapunov\n",
    "solve_discrete_lyapunov(A, Sigma * Sigma')"
   ]
  },
  {
   "cell_type": "code",
   "execution_count": 102,
   "metadata": {
    "collapsed": false
   },
   "outputs": [
    {
     "ename": "LoadError",
     "evalue": "Didn't converge in maximum 500 steps.\nwhile loading In[102], in expression starting on line 3",
     "output_type": "error",
     "traceback": [
      "Didn't converge in maximum 500 steps.\nwhile loading In[102], in expression starting on line 3",
      "",
      " in error at error.jl:21",
      " in discrete_lyapunov at In[99]:14",
      " in discrete_lyapunov at In[99]:2"
     ]
    }
   ],
   "source": [
    "A = eye(2)\n",
    "Sigma = [ 0.5 0.4 ; 0.4 0.6 ]\n",
    "discrete_lyapunov(A, Sigma)"
   ]
  },
  {
   "cell_type": "code",
   "execution_count": 103,
   "metadata": {
    "collapsed": false
   },
   "outputs": [
    {
     "ename": "LoadError",
     "evalue": "S diverges!\nwhile loading In[103], in expression starting on line 3",
     "output_type": "error",
     "traceback": [
      "S diverges!\nwhile loading In[103], in expression starting on line 3",
      "",
      " in discrete_lyapunov at In[99]:11",
      " in discrete_lyapunov at In[99]:2"
     ]
    }
   ],
   "source": [
    "A = [ 2 4 ; 6 8 ]\n",
    "Sigma = [ 0.5 0.4 ; 0.4 0.6 ]\n",
    "discrete_lyapunov(A, Sigma)"
   ]
  },
  {
   "cell_type": "code",
   "execution_count": null,
   "metadata": {
    "collapsed": true
   },
   "outputs": [],
   "source": []
  }
 ],
 "metadata": {
  "kernelspec": {
   "display_name": "Julia 0.3.8",
   "language": "julia",
   "name": "julia-0.3"
  },
  "language_info": {
   "name": "julia",
   "version": "0.3.8"
  }
 },
 "nbformat": 4,
 "nbformat_minor": 0
}
